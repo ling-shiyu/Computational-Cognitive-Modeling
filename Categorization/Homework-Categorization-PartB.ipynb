{
 "cells": [
  {
   "cell_type": "markdown",
   "metadata": {},
   "source": [
    "# Homework - Categorization and Model Comparison Part B (40/110 points)"
   ]
  },
  {
   "cell_type": "markdown",
   "metadata": {},
   "source": [
    "by *Todd Gureckis* and *Brenden Lake*  \n",
    "Computational Cognitive Modeling  \n",
    "NYU class webpage: https://brendenlake.github.io/CCM-site/  "
   ]
  },
  {
   "cell_type": "markdown",
   "metadata": {},
   "source": [
    "<div class=\"alert alert-danger\" role=\"alert\">\n",
    "  This homework is due before midnight on April 25 2022. \n",
    "</div>"
   ]
  },
  {
   "cell_type": "markdown",
   "metadata": {},
   "source": [
    "---"
   ]
  },
  {
   "cell_type": "code",
   "execution_count": 1,
   "metadata": {},
   "outputs": [],
   "source": [
    "from IPython.display import display\n",
    "import string as str\n",
    "import os\n",
    "import numpy as np\n",
    "import seaborn as sns\n",
    "import pandas as pd\n",
    "import math\n",
    "from random import random, randint, shuffle, uniform\n",
    "from scipy.optimize import fmin, brute\n",
    "from scipy.special import comb # gets the combinations function\n",
    "from exemplarproto import *  # this grabs much of the code from Part A of the homework"
   ]
  },
  {
   "cell_type": "markdown",
   "metadata": {},
   "source": [
    "## Fitting the models using maximum likelihood"
   ]
  },
  {
   "cell_type": "markdown",
   "metadata": {},
   "source": [
    "As mentioned in the lecture, RMSE is not always an ideal mechanism for fitting models.  One reason is that it is insensitive to the number of observations that define each data point.  For example, remember in our experiment that participants saw the prototype item four times at test.  In contrast, there were 20 different \"new\" patterns.  This means there are five times as many trials contributing to the \"new\" bar in this graph as for the prototype patterns.  Since RMSE measures the raw deviation of the average model predictions from those of the model it doesn't take into account these issues.  Thus, we would like to also evaluate these two models using maximum likelihood.\n",
    "\n",
    "The key to this is going to be the provided function below which computes the likelihood of a particular set of data under a binomial probability model.:"
   ]
  },
  {
   "cell_type": "code",
   "execution_count": 2,
   "metadata": {},
   "outputs": [],
   "source": [
    "################################\n",
    "# computeLogLikelihood\n",
    "# N = number of observations\n",
    "# S = number of \"successes\" (i.e., endorsements)\n",
    "# p = predicted probability of successes by the model\n",
    "################################\n",
    "def computeLogLikelihood(N, S, p):\n",
    "    p = p if p > 0.0 else 0.0+1e-10\n",
    "    p = p if p < 1.0 else 1.0-1e-10\n",
    "    try:\n",
    "        result = math.log(comb(N, S)) + (S*math.log(p) + (N-S)*math.log(1.0-p))\n",
    "    except:\n",
    "        print(N, S, p)  # this shouldn't happen but just in case\n",
    "        result = 0\n",
    "    return result\n",
    "\n",
    "\n",
    "def pandas_ll(row):\n",
    "    return computeLogLikelihood(row['Total'], row['N_Yes'], row['Probability of Endorsement'])"
   ]
  },
  {
   "cell_type": "markdown",
   "metadata": {},
   "source": [
    "A short explanation may be in order: the models predictions take the form of probabilities of endorsement for each of the prototype, low, high, random, and old items. If you find out that people endorse the prototype on 2 out of 2 trials how likely is this outcome given that the model (for a particular set of parameters ) predicts an endorsement of p=0.8? Three numbers are required to do this for each data point N, the number of trials/presentations within the stimulus class, S the number of successes observed (S<=N), and p the predicted probability. Then you can turn the crank on the above `computeLogLikelihood()` function which returns the probability that you would get $S$ successes in $N$ trials if the true probability was $p$ (make sure you understand what is happening in `computeLogLikelihood`). You can sum these log likelihoods for each stimulus class (prototype, low, high, random, old) to compute a total log(likelihood) of the data for any given model with any set of parameters.   For this homework will we focus on fitting the group data rather than to individuals."
   ]
  },
  {
   "cell_type": "markdown",
   "metadata": {},
   "source": [
    "To get the data formatted into an appropriate shape for fitting likelihoods we provide a function `get_human_results_ll()` which returns a Pandas data frame containing the number of times a pattern of a particular type was endorsed and the number of times it was presented for each subject."
   ]
  },
  {
   "cell_type": "code",
   "execution_count": 3,
   "metadata": {},
   "outputs": [
    {
     "data": {
      "text/html": [
       "<div>\n",
       "<style scoped>\n",
       "    .dataframe tbody tr th:only-of-type {\n",
       "        vertical-align: middle;\n",
       "    }\n",
       "\n",
       "    .dataframe tbody tr th {\n",
       "        vertical-align: top;\n",
       "    }\n",
       "\n",
       "    .dataframe thead th {\n",
       "        text-align: right;\n",
       "    }\n",
       "</style>\n",
       "<table border=\"1\" class=\"dataframe\">\n",
       "  <thead>\n",
       "    <tr style=\"text-align: right;\">\n",
       "      <th></th>\n",
       "      <th>Subject</th>\n",
       "      <th>Condition</th>\n",
       "      <th>Stimulus Type</th>\n",
       "      <th>N_Yes</th>\n",
       "      <th>Total</th>\n",
       "    </tr>\n",
       "  </thead>\n",
       "  <tbody>\n",
       "    <tr>\n",
       "      <th>0</th>\n",
       "      <td>./data/8.dat</td>\n",
       "      <td>cat</td>\n",
       "      <td>Prototype</td>\n",
       "      <td>4</td>\n",
       "      <td>4</td>\n",
       "    </tr>\n",
       "    <tr>\n",
       "      <th>1</th>\n",
       "      <td>./data/8.dat</td>\n",
       "      <td>cat</td>\n",
       "      <td>Low</td>\n",
       "      <td>4</td>\n",
       "      <td>4</td>\n",
       "    </tr>\n",
       "    <tr>\n",
       "      <th>2</th>\n",
       "      <td>./data/8.dat</td>\n",
       "      <td>cat</td>\n",
       "      <td>High</td>\n",
       "      <td>10</td>\n",
       "      <td>10</td>\n",
       "    </tr>\n",
       "    <tr>\n",
       "      <th>3</th>\n",
       "      <td>./data/8.dat</td>\n",
       "      <td>cat</td>\n",
       "      <td>Random</td>\n",
       "      <td>15</td>\n",
       "      <td>20</td>\n",
       "    </tr>\n",
       "    <tr>\n",
       "      <th>4</th>\n",
       "      <td>./data/8.dat</td>\n",
       "      <td>cat</td>\n",
       "      <td>Old</td>\n",
       "      <td>20</td>\n",
       "      <td>20</td>\n",
       "    </tr>\n",
       "    <tr>\n",
       "      <th>...</th>\n",
       "      <td>...</td>\n",
       "      <td>...</td>\n",
       "      <td>...</td>\n",
       "      <td>...</td>\n",
       "      <td>...</td>\n",
       "    </tr>\n",
       "    <tr>\n",
       "      <th>0</th>\n",
       "      <td>./data/7.dat</td>\n",
       "      <td>rec</td>\n",
       "      <td>Prototype</td>\n",
       "      <td>3</td>\n",
       "      <td>4</td>\n",
       "    </tr>\n",
       "    <tr>\n",
       "      <th>1</th>\n",
       "      <td>./data/7.dat</td>\n",
       "      <td>rec</td>\n",
       "      <td>Low</td>\n",
       "      <td>4</td>\n",
       "      <td>4</td>\n",
       "    </tr>\n",
       "    <tr>\n",
       "      <th>2</th>\n",
       "      <td>./data/7.dat</td>\n",
       "      <td>rec</td>\n",
       "      <td>High</td>\n",
       "      <td>8</td>\n",
       "      <td>10</td>\n",
       "    </tr>\n",
       "    <tr>\n",
       "      <th>3</th>\n",
       "      <td>./data/7.dat</td>\n",
       "      <td>rec</td>\n",
       "      <td>Random</td>\n",
       "      <td>0</td>\n",
       "      <td>20</td>\n",
       "    </tr>\n",
       "    <tr>\n",
       "      <th>4</th>\n",
       "      <td>./data/7.dat</td>\n",
       "      <td>rec</td>\n",
       "      <td>Old</td>\n",
       "      <td>19</td>\n",
       "      <td>20</td>\n",
       "    </tr>\n",
       "  </tbody>\n",
       "</table>\n",
       "<p>70 rows × 5 columns</p>\n",
       "</div>"
      ],
      "text/plain": [
       "         Subject Condition Stimulus Type  N_Yes  Total\n",
       "0   ./data/8.dat       cat     Prototype      4      4\n",
       "1   ./data/8.dat       cat           Low      4      4\n",
       "2   ./data/8.dat       cat          High     10     10\n",
       "3   ./data/8.dat       cat        Random     15     20\n",
       "4   ./data/8.dat       cat           Old     20     20\n",
       "..           ...       ...           ...    ...    ...\n",
       "0   ./data/7.dat       rec     Prototype      3      4\n",
       "1   ./data/7.dat       rec           Low      4      4\n",
       "2   ./data/7.dat       rec          High      8     10\n",
       "3   ./data/7.dat       rec        Random      0     20\n",
       "4   ./data/7.dat       rec           Old     19     20\n",
       "\n",
       "[70 rows x 5 columns]"
      ]
     },
     "execution_count": 3,
     "metadata": {},
     "output_type": "execute_result"
    }
   ],
   "source": [
    "human_res=get_human_results_ll()\n",
    "human_res"
   ]
  },
  {
   "cell_type": "markdown",
   "metadata": {},
   "source": [
    "This reorganizes the data per condition."
   ]
  },
  {
   "cell_type": "code",
   "execution_count": 4,
   "metadata": {},
   "outputs": [
    {
     "data": {
      "text/html": [
       "<div>\n",
       "<style scoped>\n",
       "    .dataframe tbody tr th:only-of-type {\n",
       "        vertical-align: middle;\n",
       "    }\n",
       "\n",
       "    .dataframe tbody tr th {\n",
       "        vertical-align: top;\n",
       "    }\n",
       "\n",
       "    .dataframe thead th {\n",
       "        text-align: right;\n",
       "    }\n",
       "</style>\n",
       "<table border=\"1\" class=\"dataframe\">\n",
       "  <thead>\n",
       "    <tr style=\"text-align: right;\">\n",
       "      <th></th>\n",
       "      <th></th>\n",
       "      <th>N_Yes</th>\n",
       "      <th>Total</th>\n",
       "    </tr>\n",
       "    <tr>\n",
       "      <th>Condition</th>\n",
       "      <th>Stimulus Type</th>\n",
       "      <th></th>\n",
       "      <th></th>\n",
       "    </tr>\n",
       "  </thead>\n",
       "  <tbody>\n",
       "    <tr>\n",
       "      <th rowspan=\"5\" valign=\"top\">cat</th>\n",
       "      <th>High</th>\n",
       "      <td>49</td>\n",
       "      <td>70</td>\n",
       "    </tr>\n",
       "    <tr>\n",
       "      <th>Low</th>\n",
       "      <td>26</td>\n",
       "      <td>28</td>\n",
       "    </tr>\n",
       "    <tr>\n",
       "      <th>Old</th>\n",
       "      <td>110</td>\n",
       "      <td>140</td>\n",
       "    </tr>\n",
       "    <tr>\n",
       "      <th>Prototype</th>\n",
       "      <td>25</td>\n",
       "      <td>28</td>\n",
       "    </tr>\n",
       "    <tr>\n",
       "      <th>Random</th>\n",
       "      <td>37</td>\n",
       "      <td>140</td>\n",
       "    </tr>\n",
       "    <tr>\n",
       "      <th rowspan=\"5\" valign=\"top\">rec</th>\n",
       "      <th>High</th>\n",
       "      <td>20</td>\n",
       "      <td>70</td>\n",
       "    </tr>\n",
       "    <tr>\n",
       "      <th>Low</th>\n",
       "      <td>16</td>\n",
       "      <td>28</td>\n",
       "    </tr>\n",
       "    <tr>\n",
       "      <th>Old</th>\n",
       "      <td>89</td>\n",
       "      <td>140</td>\n",
       "    </tr>\n",
       "    <tr>\n",
       "      <th>Prototype</th>\n",
       "      <td>18</td>\n",
       "      <td>28</td>\n",
       "    </tr>\n",
       "    <tr>\n",
       "      <th>Random</th>\n",
       "      <td>7</td>\n",
       "      <td>140</td>\n",
       "    </tr>\n",
       "  </tbody>\n",
       "</table>\n",
       "</div>"
      ],
      "text/plain": [
       "                         N_Yes  Total\n",
       "Condition Stimulus Type              \n",
       "cat       High              49     70\n",
       "          Low               26     28\n",
       "          Old              110    140\n",
       "          Prototype         25     28\n",
       "          Random            37    140\n",
       "rec       High              20     70\n",
       "          Low               16     28\n",
       "          Old               89    140\n",
       "          Prototype         18     28\n",
       "          Random             7    140"
      ]
     },
     "execution_count": 4,
     "metadata": {},
     "output_type": "execute_result"
    }
   ],
   "source": [
    "human_data=human_res.groupby(['Condition','Stimulus Type']).sum()\n",
    "human_data"
   ]
  },
  {
   "cell_type": "markdown",
   "metadata": {},
   "source": [
    "Finally these function allow us to compute the negative log likelihood of the data given the model."
   ]
  },
  {
   "cell_type": "code",
   "execution_count": 5,
   "metadata": {},
   "outputs": [],
   "source": [
    "def fit_exemplar_model_nll(params, human_results):\n",
    "    [c_cat, k_cat, c_rec, k_rec] = params\n",
    "    k_cat = k_cat if k_cat > 0.0 else 0.0\n",
    "    k_rec = k_rec if k_rec > 0.0 else 0.0\n",
    "    predictions = get_exemplar_results(c_cat, k_cat, c_rec, k_rec)\n",
    "    model = predictions.groupby(\n",
    "        ['Condition', 'Stimulus Type'], as_index=False).mean()\n",
    "    fitted_data = pd.merge(model, human_results)\n",
    "    return -1.0*fitted_data.apply(pandas_ll, axis=1).sum()\n",
    "\n",
    "\n",
    "def fit_prototype_model_nll(params, human_results):\n",
    "    [c_cat, k_cat, c_rec, k_rec] = params\n",
    "    k_cat = k_cat if k_cat > 0.0 else 0.0\n",
    "    k_rec = k_rec if k_rec > 0.0 else 0.0\n",
    "    predictions = get_prototype_results(c_cat, k_cat, c_rec, k_rec)\n",
    "    model = predictions.groupby(\n",
    "        ['Condition', 'Stimulus Type'], as_index=False).mean()\n",
    "    fitted_data = pd.merge(model, human_results)\n",
    "    return -1.0*fitted_data.apply(pandas_ll, axis=1).sum()"
   ]
  },
  {
   "cell_type": "markdown",
   "metadata": {},
   "source": [
    "<div class=\"alert alert-success\" role=\"alert\">\n",
    "<h3> Problem 6 (20 points) </h3><br>\n",
    "The cell blocks below allow you to fit the exemplare model and the prototype model to the dataset we considered in Part A of the homework. Make sure you understand and follow the code provided above and in the provided library (exemplarproto.py).  Next, try altering the parameters to minimize the negative log likelihood score.  When you think you have found the best fit parameters for both the exemplar and prototype models report your final parameter values along with the plot of the resulting model predictions.  In a markdown cell describe which model you believe fits better.  Is this conclusion the same or different from what you considered in Part 4 of the homework?  If the fit looks different, why?\n",
    "</div>"
   ]
  },
  {
   "cell_type": "markdown",
   "metadata": {},
   "source": [
    "<div class=\"alert alert-success\" role=\"alert\">\n",
    "<h3> Problem 6 Answer </h3><br>\n",
    "The parameters that minimize the negative log likelihood score are: \n",
    "    \n",
    "    Exemplar: params = [1.5, 0.3, 1.9, 0.78], with the negative log score of 29.24864237575493\n",
    "    Prototype: params = [1.6, 0.03, 1.87, 0.1], with the negative log score of 33.165423291348205\n",
    "    \n",
    "    \n",
    "I believe exemplar model fit better since it have a smaller value of negative log score. This is the same as the conclusion in part A Question 4.\n",
    "    \n",
    "The overall fit of these two model mathes with human results. In the Exemplar model, the old simulus have a highest probability of endorsement. Since the exemplar model memorize every item in the training set, when a identical item shows, the model will be able to retrive the memory. By comparing two identical item, a high similarty(e^sij=1) would lead to the higher probability of endorsement. \n",
    "Meanwhile, in the prototype model, the prototype simulus have the highest probability of endorsement. In the prototype model, an average prototype is memorize for the category. Under the prototype simulus, it would produce a similar items to the prototype. Thus it would lead to higher probability of endorsement. \n",
    "\n",
    "   \n",
    "</div>"
   ]
  },
  {
   "cell_type": "markdown",
   "metadata": {},
   "source": [
    "**Exemplar model**"
   ]
  },
  {
   "cell_type": "code",
   "execution_count": 83,
   "metadata": {},
   "outputs": [
    {
     "name": "stdout",
     "output_type": "stream",
     "text": [
      "The negative log score is 29.24864237575493\n"
     ]
    },
    {
     "data": {
      "text/plain": [
       "<AxesSubplot:xlabel='Stimulus Type', ylabel='Probability of Endorsement'>"
      ]
     },
     "execution_count": 83,
     "metadata": {},
     "output_type": "execute_result"
    },
    {
     "data": {
      "image/png": "[encoded data removed]",
      "text/plain": [
       "<Figure size 432x288 with 1 Axes>"
      ]
     },
     "metadata": {
      "needs_background": "light"
     },
     "output_type": "display_data"
    }
   ],
   "source": [
    "human = human_res.groupby(['Condition', 'Stimulus Type'], as_index=False).sum()\n",
    "\n",
    "params = [1.5, 0.3, 1.9, 0.78]\n",
    "nllfit = fit_exemplar_model_nll(params, human)\n",
    "print(f'The negative log score is {nllfit}')\n",
    "\n",
    "# now plot the data\n",
    "c_cat, k_cat, c_rec, k_rec = params\n",
    "res = get_exemplar_results(c_cat, k_cat, c_rec, k_rec)\n",
    "sns.barplot(x=\"Stimulus Type\", y=\"Probability of Endorsement\",\n",
    "            hue=\"Condition\", data=res)"
   ]
  },
  {
   "cell_type": "markdown",
   "metadata": {},
   "source": [
    "**Prototype Model**"
   ]
  },
  {
   "cell_type": "code",
   "execution_count": 85,
   "metadata": {},
   "outputs": [
    {
     "name": "stdout",
     "output_type": "stream",
     "text": [
      "The negative log score is 33.165423291348205\n"
     ]
    },
    {
     "data": {
      "text/plain": [
       "<AxesSubplot:xlabel='Stimulus Type', ylabel='Probability of Endorsement'>"
      ]
     },
     "execution_count": 85,
     "metadata": {},
     "output_type": "execute_result"
    },
    {
     "data": {
      "image/png": "[encoded data removed]",
      "text/plain": [
       "<Figure size 432x288 with 1 Axes>"
      ]
     },
     "metadata": {
      "needs_background": "light"
     },
     "output_type": "display_data"
    }
   ],
   "source": [
    "human = human_res.groupby(['Condition', 'Stimulus Type'], as_index=False).sum()\n",
    "\n",
    "params = [1.6, 0.03, 1.87, 0.1]\n",
    "nllfit = fit_prototype_model_nll(params, human)\n",
    "print(f'The negative log score is {nllfit}')\n",
    "\n",
    "# now plot the data\n",
    "c_cat, k_cat, c_rec, k_rec = params\n",
    "res = get_prototype_results(c_cat, k_cat, c_rec, k_rec)\n",
    "sns.barplot(x=\"Stimulus Type\", y=\"Probability of Endorsement\",\n",
    "            hue=\"Condition\", data=res)"
   ]
  },
  {
   "cell_type": "markdown",
   "metadata": {},
   "source": [
    "**Human data again for reference**"
   ]
  },
  {
   "cell_type": "code",
   "execution_count": 8,
   "metadata": {},
   "outputs": [
    {
     "data": {
      "text/plain": [
       "<AxesSubplot:xlabel='Stimulus Type', ylabel='Probability of Endorsement'>"
      ]
     },
     "execution_count": 8,
     "metadata": {},
     "output_type": "execute_result"
    },
    {
     "data": {
      "image/png": "[encoded data removed]",
      "text/plain": [
       "<Figure size 432x288 with 1 Axes>"
      ]
     },
     "metadata": {
      "needs_background": "light"
     },
     "output_type": "display_data"
    }
   ],
   "source": [
    "sns.barplot(x=\"Stimulus Type\", y=\"Probability of Endorsement\",\n",
    "            hue=\"Condition\", data=get_human_results())"
   ]
  },
  {
   "cell_type": "markdown",
   "metadata": {},
   "source": [
    "<div class=\"alert alert-success\" role=\"alert\">\n",
    "<h3> Problem 7 (10 points) </h3><br>\n",
    "A famous saying is the \"All models are wrong, but some are useful\" (George Box).  Do you think the exemplar or prototype model provides the best account of the data?  Refer to particular patterns in the data that you believe the different models do a better job with.\n",
    "</div>"
   ]
  },
  {
   "cell_type": "markdown",
   "metadata": {},
   "source": [
    "<div class=\"alert alert-success\" role=\"alert\">\n",
    "<h3> Problem 7 Answer </h3><br>\n",
    "    Exemplar or Prototype would perform differently under different condition, but both perform well. Exemplar model suggests that it categorize objects by storing every past object, and use past experience to find the general class. Meanwhile, prototype model store a single summary representation that captures the central tendency of the category. Exemplar perform better than prototype under the old simulus. Under the rec condition, exemplar model have a better fit with human results. Under the cat condition, prototype model would have a better fit with human results. \n",
    "    \n",
    "Both models have their own strength and weakness. Exemplar model may do a better job when the new item is hightly similar to those presented before(old simulus). Prototype model may do a better job when examples are having similar features and correlated tendency, which can lead to a distinct categoty(prototype simulus). "
   ]
  },
  {
   "cell_type": "markdown",
   "metadata": {},
   "source": [
    "<div class=\"alert alert-success\" role=\"alert\">\n",
    "<h3> Problem 8 (5 points) </h3><br>\n",
    "\n",
    "Thinking about how these models work explain why both the exemplar and prototype models have relatively high endorsement for the prototype item even though it was never presented during the training phase.  In addition, explain in your own words why the models are able to explain the high endorsement rates for the old items.\n",
    "    \n",
    "</div>"
   ]
  },
  {
   "cell_type": "markdown",
   "metadata": {},
   "source": [
    "<div class=\"alert alert-success\" role=\"alert\">\n",
    "<h3> Problem 8 Answer </h3><br>\n",
    "    Both model have high probability of endorsement for the prototype. For exemplar model, when a new item shows similar to the exemplars, there would be a higher chance that the new item would receive endorsement. Because in the exemplar model, the probability of endorsement is based on all previous examples. Since the prototype would have silimar feature to all the previous examples, it would have a high endorsement. For prototype model, people categorize objects based on a single summary representation that captures the central tendency of the category. when the new prototype simulus presented, it can matches some of the feature of the category, it would have a higher chance to receive a higher probability of endorsement. \n",
    "    \n",
    "Both model have high endorsement rates for the old items. For exemplar model, when the model encounter a item that is already in the memory, it would retrive their memory. Since the old item is identical relative to the exemplars, there would be a large e^sij value presented. Thus higher probability of endorsement it would get. For prototype model, people have a prototype representation in memory for each category based on the training set. Since the old item is identical to those presented during the training phase, when people compare the old item to the prototype representation, there would be a high similarity and high probability of endorsement. "
   ]
  },
  {
   "cell_type": "markdown",
   "metadata": {},
   "source": [
    "<div class=\"alert alert-success\" role=\"alert\">\n",
    "<h3> Problem 9 (5 points) </h3><br>\n",
    "\n",
    "Are the exemplar model and the prototype model we considered nested?  Would we compare them using AIC, BIC, or the G^2 statistic (or something else)?\n",
    "\n",
    "</div>"
   ]
  },
  {
   "cell_type": "markdown",
   "metadata": {},
   "source": [
    "<div class=\"alert alert-success\" role=\"alert\">\n",
    "<h3> Problem 9 Answer </h3><br>\n",
    "Exemplar model and prototype model are not nested. While a prototype is an abstract average of the members of a category, an exemplar is an actual member of a category, pulled from memory.\n",
    "    \n",
    "We would compare them using AIC, BIC. AIC and BIC can be used to measure non-nested model. They take into account both the goodness-of-fit of the model and the complexity of the model. The model with the lower AIC or BIC score is considered to be the better fit, given the trade-off between model complexity and goodness-of-fit. For G^2 statistics, it only works for nested model. So, it is not applicable here. \n",
    "    \n",
    "For non-nested models, we can also use cross-validation, Baysian model comparison, or likelihood ratio test to compare exemplar and prototype. "
   ]
  }
 ],
 "metadata": {
  "kernelspec": {
   "display_name": "Python 3 (ipykernel)",
   "language": "python",
   "name": "python3"
  },
  "language_info": {
   "codemirror_mode": {
    "name": "ipython",
    "version": 3
   },
   "file_extension": ".py",
   "mimetype": "text/x-python",
   "name": "python",
   "nbconvert_exporter": "python",
   "pygments_lexer": "ipython3",
   "version": "3.9.7"
  },
  "toc": {
   "base_numbering": 1,
   "nav_menu": {},
   "number_sections": true,
   "sideBar": true,
   "skip_h1_title": false,
   "title_cell": "Table of Contents",
   "title_sidebar": "Contents",
   "toc_cell": false,
   "toc_position": {},
   "toc_section_display": true,
   "toc_window_display": false
  }
 },
 "nbformat": 4,
 "nbformat_minor": 2
}
